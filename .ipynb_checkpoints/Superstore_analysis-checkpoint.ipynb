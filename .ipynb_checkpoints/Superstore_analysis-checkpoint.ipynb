{
 "cells": [
  {
   "cell_type": "code",
   "execution_count": 1,
   "metadata": {
    "id": "Up_gE6qTB79w"
   },
   "outputs": [],
   "source": [
    "import math\n",
    "import numpy as np\n",
    "import pandas as pd\n",
    "import seaborn as sns\n",
    "import matplotlib.pyplot as plt\n",
    "\n",
    "plt.style.use('seaborn')\n",
    "sns.set(font_scale=1)\n",
    "\n",
    "import warnings\n",
    "warnings.simplefilter(action='ignore', category=FutureWarning)"
   ]
  },
  {
   "cell_type": "code",
   "execution_count": 2,
   "metadata": {
    "id": "2ZMRbR3iCH_0",
    "scrolled": false
   },
   "outputs": [],
   "source": [
    "#Read data from excel\n",
    "sp = pd.read_excel('Superstore Data.csv')"
   ]
  },
  {
   "cell_type": "code",
   "execution_count": 3,
   "metadata": {
    "id": "sUCotLbcBkpt"
   },
   "outputs": [
    {
     "data": {
      "text/html": [
       "<div>\n",
       "<style scoped>\n",
       "    .dataframe tbody tr th:only-of-type {\n",
       "        vertical-align: middle;\n",
       "    }\n",
       "\n",
       "    .dataframe tbody tr th {\n",
       "        vertical-align: top;\n",
       "    }\n",
       "\n",
       "    .dataframe thead th {\n",
       "        text-align: right;\n",
       "    }\n",
       "</style>\n",
       "<table border=\"1\" class=\"dataframe\">\n",
       "  <thead>\n",
       "    <tr style=\"text-align: right;\">\n",
       "      <th></th>\n",
       "      <th>Row ID</th>\n",
       "      <th>Order ID</th>\n",
       "      <th>연</th>\n",
       "      <th>월</th>\n",
       "      <th>일</th>\n",
       "      <th>Ship Mode</th>\n",
       "      <th>Customer ID</th>\n",
       "      <th>Customer Name</th>\n",
       "      <th>Segment</th>\n",
       "      <th>Country</th>\n",
       "      <th>...</th>\n",
       "      <th>Postal Code</th>\n",
       "      <th>Region</th>\n",
       "      <th>Product ID</th>\n",
       "      <th>Category</th>\n",
       "      <th>Sub-Category</th>\n",
       "      <th>Product Name</th>\n",
       "      <th>Sales</th>\n",
       "      <th>Quantity</th>\n",
       "      <th>Discount</th>\n",
       "      <th>Profit</th>\n",
       "    </tr>\n",
       "  </thead>\n",
       "  <tbody>\n",
       "    <tr>\n",
       "      <th>0</th>\n",
       "      <td>1</td>\n",
       "      <td>CA-2016-152156</td>\n",
       "      <td>2016년</td>\n",
       "      <td>11월</td>\n",
       "      <td>8일</td>\n",
       "      <td>Second Class</td>\n",
       "      <td>CG-12520</td>\n",
       "      <td>Claire Gute</td>\n",
       "      <td>Consumer</td>\n",
       "      <td>United States</td>\n",
       "      <td>...</td>\n",
       "      <td>42420</td>\n",
       "      <td>South</td>\n",
       "      <td>FUR-BO-10001798</td>\n",
       "      <td>Furniture</td>\n",
       "      <td>Bookcases</td>\n",
       "      <td>Bush Somerset Collection Bookcase</td>\n",
       "      <td>261.9600</td>\n",
       "      <td>2</td>\n",
       "      <td>0.00</td>\n",
       "      <td>41.9136</td>\n",
       "    </tr>\n",
       "    <tr>\n",
       "      <th>1</th>\n",
       "      <td>2</td>\n",
       "      <td>CA-2016-152156</td>\n",
       "      <td>2016년</td>\n",
       "      <td>11월</td>\n",
       "      <td>8일</td>\n",
       "      <td>Second Class</td>\n",
       "      <td>CG-12520</td>\n",
       "      <td>Claire Gute</td>\n",
       "      <td>Consumer</td>\n",
       "      <td>United States</td>\n",
       "      <td>...</td>\n",
       "      <td>42420</td>\n",
       "      <td>South</td>\n",
       "      <td>FUR-CH-10000454</td>\n",
       "      <td>Furniture</td>\n",
       "      <td>Chairs</td>\n",
       "      <td>Hon Deluxe Fabric Upholstered Stacking Chairs,...</td>\n",
       "      <td>731.9400</td>\n",
       "      <td>3</td>\n",
       "      <td>0.00</td>\n",
       "      <td>219.5820</td>\n",
       "    </tr>\n",
       "    <tr>\n",
       "      <th>2</th>\n",
       "      <td>3</td>\n",
       "      <td>CA-2016-138688</td>\n",
       "      <td>2016년</td>\n",
       "      <td>6월</td>\n",
       "      <td>12일</td>\n",
       "      <td>Second Class</td>\n",
       "      <td>DV-13045</td>\n",
       "      <td>Darrin Van Huff</td>\n",
       "      <td>Corporate</td>\n",
       "      <td>United States</td>\n",
       "      <td>...</td>\n",
       "      <td>90036</td>\n",
       "      <td>West</td>\n",
       "      <td>OFF-LA-10000240</td>\n",
       "      <td>Office Supplies</td>\n",
       "      <td>Labels</td>\n",
       "      <td>Self-Adhesive Address Labels for Typewriters b...</td>\n",
       "      <td>14.6200</td>\n",
       "      <td>2</td>\n",
       "      <td>0.00</td>\n",
       "      <td>6.8714</td>\n",
       "    </tr>\n",
       "    <tr>\n",
       "      <th>3</th>\n",
       "      <td>4</td>\n",
       "      <td>US-2015-108966</td>\n",
       "      <td>2015년</td>\n",
       "      <td>10월</td>\n",
       "      <td>11일</td>\n",
       "      <td>Standard Class</td>\n",
       "      <td>SO-20335</td>\n",
       "      <td>Sean O'Donnell</td>\n",
       "      <td>Consumer</td>\n",
       "      <td>United States</td>\n",
       "      <td>...</td>\n",
       "      <td>33311</td>\n",
       "      <td>South</td>\n",
       "      <td>FUR-TA-10000577</td>\n",
       "      <td>Furniture</td>\n",
       "      <td>Tables</td>\n",
       "      <td>Bretford CR4500 Series Slim Rectangular Table</td>\n",
       "      <td>957.5775</td>\n",
       "      <td>5</td>\n",
       "      <td>0.45</td>\n",
       "      <td>-383.0310</td>\n",
       "    </tr>\n",
       "    <tr>\n",
       "      <th>4</th>\n",
       "      <td>5</td>\n",
       "      <td>US-2015-108966</td>\n",
       "      <td>2015년</td>\n",
       "      <td>10월</td>\n",
       "      <td>11일</td>\n",
       "      <td>Standard Class</td>\n",
       "      <td>SO-20335</td>\n",
       "      <td>Sean O'Donnell</td>\n",
       "      <td>Consumer</td>\n",
       "      <td>United States</td>\n",
       "      <td>...</td>\n",
       "      <td>33311</td>\n",
       "      <td>South</td>\n",
       "      <td>OFF-ST-10000760</td>\n",
       "      <td>Office Supplies</td>\n",
       "      <td>Storage</td>\n",
       "      <td>Eldon Fold 'N Roll Cart System</td>\n",
       "      <td>22.3680</td>\n",
       "      <td>2</td>\n",
       "      <td>0.20</td>\n",
       "      <td>2.5164</td>\n",
       "    </tr>\n",
       "  </tbody>\n",
       "</table>\n",
       "<p>5 rows × 22 columns</p>\n",
       "</div>"
      ],
      "text/plain": [
       "   Row ID        Order ID      연    월    일       Ship Mode Customer ID  \\\n",
       "0       1  CA-2016-152156  2016년  11월   8일    Second Class    CG-12520   \n",
       "1       2  CA-2016-152156  2016년  11월   8일    Second Class    CG-12520   \n",
       "2       3  CA-2016-138688  2016년   6월  12일    Second Class    DV-13045   \n",
       "3       4  US-2015-108966  2015년  10월  11일  Standard Class    SO-20335   \n",
       "4       5  US-2015-108966  2015년  10월  11일  Standard Class    SO-20335   \n",
       "\n",
       "     Customer Name    Segment        Country  ... Postal Code Region  \\\n",
       "0      Claire Gute   Consumer  United States  ...       42420  South   \n",
       "1      Claire Gute   Consumer  United States  ...       42420  South   \n",
       "2  Darrin Van Huff  Corporate  United States  ...       90036   West   \n",
       "3   Sean O'Donnell   Consumer  United States  ...       33311  South   \n",
       "4   Sean O'Donnell   Consumer  United States  ...       33311  South   \n",
       "\n",
       "        Product ID         Category Sub-Category  \\\n",
       "0  FUR-BO-10001798        Furniture    Bookcases   \n",
       "1  FUR-CH-10000454        Furniture       Chairs   \n",
       "2  OFF-LA-10000240  Office Supplies       Labels   \n",
       "3  FUR-TA-10000577        Furniture       Tables   \n",
       "4  OFF-ST-10000760  Office Supplies      Storage   \n",
       "\n",
       "                                        Product Name     Sales Quantity  \\\n",
       "0                  Bush Somerset Collection Bookcase  261.9600        2   \n",
       "1  Hon Deluxe Fabric Upholstered Stacking Chairs,...  731.9400        3   \n",
       "2  Self-Adhesive Address Labels for Typewriters b...   14.6200        2   \n",
       "3      Bretford CR4500 Series Slim Rectangular Table  957.5775        5   \n",
       "4                     Eldon Fold 'N Roll Cart System   22.3680        2   \n",
       "\n",
       "   Discount    Profit  \n",
       "0      0.00   41.9136  \n",
       "1      0.00  219.5820  \n",
       "2      0.00    6.8714  \n",
       "3      0.45 -383.0310  \n",
       "4      0.20    2.5164  \n",
       "\n",
       "[5 rows x 22 columns]"
      ]
     },
     "execution_count": 3,
     "metadata": {},
     "output_type": "execute_result"
    }
   ],
   "source": [
    "sp.head(5)"
   ]
  },
  {
   "cell_type": "code",
   "execution_count": 4,
   "metadata": {
    "id": "22sauVGwB24D"
   },
   "outputs": [
    {
     "name": "stdout",
     "output_type": "stream",
     "text": [
      "<class 'pandas.core.frame.DataFrame'>\n",
      "RangeIndex: 32 entries, 0 to 31\n",
      "Data columns (total 22 columns):\n",
      " #   Column         Non-Null Count  Dtype  \n",
      "---  ------         --------------  -----  \n",
      " 0   Row ID         32 non-null     int64  \n",
      " 1   Order ID       32 non-null     object \n",
      " 2   연              32 non-null     object \n",
      " 3   월              32 non-null     object \n",
      " 4   일              32 non-null     object \n",
      " 5   Ship Mode      32 non-null     object \n",
      " 6   Customer ID    32 non-null     object \n",
      " 7   Customer Name  32 non-null     object \n",
      " 8   Segment        32 non-null     object \n",
      " 9   Country        32 non-null     object \n",
      " 10  City           32 non-null     object \n",
      " 11  State          32 non-null     object \n",
      " 12  Postal Code    32 non-null     int64  \n",
      " 13  Region         32 non-null     object \n",
      " 14  Product ID     32 non-null     object \n",
      " 15  Category       32 non-null     object \n",
      " 16  Sub-Category   32 non-null     object \n",
      " 17  Product Name   32 non-null     object \n",
      " 18  Sales          32 non-null     float64\n",
      " 19  Quantity       32 non-null     int64  \n",
      " 20  Discount       32 non-null     float64\n",
      " 21  Profit         32 non-null     float64\n",
      "dtypes: float64(3), int64(3), object(16)\n",
      "memory usage: 5.6+ KB\n"
     ]
    }
   ],
   "source": [
    "sp.info()"
   ]
  },
  {
   "cell_type": "code",
   "execution_count": 5,
   "metadata": {
    "id": "xZBr7AlnHAUa"
   },
   "outputs": [
    {
     "data": {
      "text/html": [
       "<div>\n",
       "<style scoped>\n",
       "    .dataframe tbody tr th:only-of-type {\n",
       "        vertical-align: middle;\n",
       "    }\n",
       "\n",
       "    .dataframe tbody tr th {\n",
       "        vertical-align: top;\n",
       "    }\n",
       "\n",
       "    .dataframe thead th {\n",
       "        text-align: right;\n",
       "    }\n",
       "</style>\n",
       "<table border=\"1\" class=\"dataframe\">\n",
       "  <thead>\n",
       "    <tr style=\"text-align: right;\">\n",
       "      <th></th>\n",
       "      <th>Row ID</th>\n",
       "      <th>Postal Code</th>\n",
       "      <th>Sales</th>\n",
       "      <th>Quantity</th>\n",
       "      <th>Discount</th>\n",
       "      <th>Profit</th>\n",
       "    </tr>\n",
       "  </thead>\n",
       "  <tbody>\n",
       "    <tr>\n",
       "      <th>count</th>\n",
       "      <td>32.000000</td>\n",
       "      <td>32.000000</td>\n",
       "      <td>32.000000</td>\n",
       "      <td>32.000000</td>\n",
       "      <td>32.000000</td>\n",
       "      <td>32.000000</td>\n",
       "    </tr>\n",
       "    <tr>\n",
       "      <th>mean</th>\n",
       "      <td>16.500000</td>\n",
       "      <td>65163.468750</td>\n",
       "      <td>367.769609</td>\n",
       "      <td>3.968750</td>\n",
       "      <td>0.192188</td>\n",
       "      <td>-35.050384</td>\n",
       "    </tr>\n",
       "    <tr>\n",
       "      <th>std</th>\n",
       "      <td>9.380832</td>\n",
       "      <td>30074.426244</td>\n",
       "      <td>649.511984</td>\n",
       "      <td>1.975403</td>\n",
       "      <td>0.230745</td>\n",
       "      <td>313.334490</td>\n",
       "    </tr>\n",
       "    <tr>\n",
       "      <th>min</th>\n",
       "      <td>1.000000</td>\n",
       "      <td>19140.000000</td>\n",
       "      <td>2.544000</td>\n",
       "      <td>2.000000</td>\n",
       "      <td>0.000000</td>\n",
       "      <td>-1665.052200</td>\n",
       "    </tr>\n",
       "    <tr>\n",
       "      <th>25%</th>\n",
       "      <td>8.750000</td>\n",
       "      <td>33311.000000</td>\n",
       "      <td>17.766000</td>\n",
       "      <td>2.000000</td>\n",
       "      <td>0.000000</td>\n",
       "      <td>2.353200</td>\n",
       "    </tr>\n",
       "    <tr>\n",
       "      <th>50%</th>\n",
       "      <td>16.500000</td>\n",
       "      <td>80081.500000</td>\n",
       "      <td>70.091000</td>\n",
       "      <td>3.000000</td>\n",
       "      <td>0.200000</td>\n",
       "      <td>8.546600</td>\n",
       "    </tr>\n",
       "    <tr>\n",
       "      <th>75%</th>\n",
       "      <td>24.250000</td>\n",
       "      <td>90032.000000</td>\n",
       "      <td>472.452000</td>\n",
       "      <td>5.250000</td>\n",
       "      <td>0.200000</td>\n",
       "      <td>20.625750</td>\n",
       "    </tr>\n",
       "    <tr>\n",
       "      <th>max</th>\n",
       "      <td>32.000000</td>\n",
       "      <td>98103.000000</td>\n",
       "      <td>3083.430000</td>\n",
       "      <td>9.000000</td>\n",
       "      <td>0.800000</td>\n",
       "      <td>240.264900</td>\n",
       "    </tr>\n",
       "  </tbody>\n",
       "</table>\n",
       "</div>"
      ],
      "text/plain": [
       "          Row ID   Postal Code        Sales   Quantity   Discount       Profit\n",
       "count  32.000000     32.000000    32.000000  32.000000  32.000000    32.000000\n",
       "mean   16.500000  65163.468750   367.769609   3.968750   0.192188   -35.050384\n",
       "std     9.380832  30074.426244   649.511984   1.975403   0.230745   313.334490\n",
       "min     1.000000  19140.000000     2.544000   2.000000   0.000000 -1665.052200\n",
       "25%     8.750000  33311.000000    17.766000   2.000000   0.000000     2.353200\n",
       "50%    16.500000  80081.500000    70.091000   3.000000   0.200000     8.546600\n",
       "75%    24.250000  90032.000000   472.452000   5.250000   0.200000    20.625750\n",
       "max    32.000000  98103.000000  3083.430000   9.000000   0.800000   240.264900"
      ]
     },
     "execution_count": 5,
     "metadata": {},
     "output_type": "execute_result"
    }
   ],
   "source": [
    "sp.describe()"
   ]
  },
  {
   "cell_type": "code",
   "execution_count": 6,
   "metadata": {
    "id": "oFvBbVTtGIBO"
   },
   "outputs": [
    {
     "name": "stderr",
     "output_type": "stream",
     "text": [
      "/var/folders/mw/bfxttz050877klzz0426gdf80000gn/T/ipykernel_20437/395656122.py:1: DeprecationWarning: `np.object` is a deprecated alias for the builtin `object`. To silence this warning, use `object` by itself. Doing this will not modify any behavior and is safe. \n",
      "Deprecated in NumPy 1.20; for more details and guidance: https://numpy.org/devdocs/release/1.20.0-notes.html#deprecations\n",
      "  sp.describe(include=np.object)\n"
     ]
    },
    {
     "data": {
      "text/html": [
       "<div>\n",
       "<style scoped>\n",
       "    .dataframe tbody tr th:only-of-type {\n",
       "        vertical-align: middle;\n",
       "    }\n",
       "\n",
       "    .dataframe tbody tr th {\n",
       "        vertical-align: top;\n",
       "    }\n",
       "\n",
       "    .dataframe thead th {\n",
       "        text-align: right;\n",
       "    }\n",
       "</style>\n",
       "<table border=\"1\" class=\"dataframe\">\n",
       "  <thead>\n",
       "    <tr style=\"text-align: right;\">\n",
       "      <th></th>\n",
       "      <th>Order ID</th>\n",
       "      <th>연</th>\n",
       "      <th>월</th>\n",
       "      <th>일</th>\n",
       "      <th>Ship Mode</th>\n",
       "      <th>Customer ID</th>\n",
       "      <th>Customer Name</th>\n",
       "      <th>Segment</th>\n",
       "      <th>Country</th>\n",
       "      <th>City</th>\n",
       "      <th>State</th>\n",
       "      <th>Region</th>\n",
       "      <th>Product ID</th>\n",
       "      <th>Category</th>\n",
       "      <th>Sub-Category</th>\n",
       "      <th>Product Name</th>\n",
       "    </tr>\n",
       "  </thead>\n",
       "  <tbody>\n",
       "    <tr>\n",
       "      <th>count</th>\n",
       "      <td>32</td>\n",
       "      <td>32</td>\n",
       "      <td>32</td>\n",
       "      <td>32</td>\n",
       "      <td>32</td>\n",
       "      <td>32</td>\n",
       "      <td>32</td>\n",
       "      <td>32</td>\n",
       "      <td>32</td>\n",
       "      <td>32</td>\n",
       "      <td>32</td>\n",
       "      <td>32</td>\n",
       "      <td>32</td>\n",
       "      <td>32</td>\n",
       "      <td>32</td>\n",
       "      <td>32</td>\n",
       "    </tr>\n",
       "    <tr>\n",
       "      <th>unique</th>\n",
       "      <td>15</td>\n",
       "      <td>4</td>\n",
       "      <td>10</td>\n",
       "      <td>12</td>\n",
       "      <td>2</td>\n",
       "      <td>15</td>\n",
       "      <td>15</td>\n",
       "      <td>3</td>\n",
       "      <td>1</td>\n",
       "      <td>12</td>\n",
       "      <td>10</td>\n",
       "      <td>4</td>\n",
       "      <td>31</td>\n",
       "      <td>3</td>\n",
       "      <td>13</td>\n",
       "      <td>31</td>\n",
       "    </tr>\n",
       "    <tr>\n",
       "      <th>top</th>\n",
       "      <td>CA-2014-115812</td>\n",
       "      <td>2014년</td>\n",
       "      <td>6월</td>\n",
       "      <td>9일</td>\n",
       "      <td>Standard Class</td>\n",
       "      <td>BH-11710</td>\n",
       "      <td>Brosina Hoffman</td>\n",
       "      <td>Consumer</td>\n",
       "      <td>United States</td>\n",
       "      <td>Los Angeles</td>\n",
       "      <td>California</td>\n",
       "      <td>West</td>\n",
       "      <td>FUR-TA-10000577</td>\n",
       "      <td>Office Supplies</td>\n",
       "      <td>Binders</td>\n",
       "      <td>Bretford CR4500 Series Slim Rectangular Table</td>\n",
       "    </tr>\n",
       "    <tr>\n",
       "      <th>freq</th>\n",
       "      <td>7</td>\n",
       "      <td>12</td>\n",
       "      <td>8</td>\n",
       "      <td>9</td>\n",
       "      <td>22</td>\n",
       "      <td>7</td>\n",
       "      <td>7</td>\n",
       "      <td>27</td>\n",
       "      <td>32</td>\n",
       "      <td>10</td>\n",
       "      <td>13</td>\n",
       "      <td>16</td>\n",
       "      <td>2</td>\n",
       "      <td>19</td>\n",
       "      <td>6</td>\n",
       "      <td>2</td>\n",
       "    </tr>\n",
       "  </tbody>\n",
       "</table>\n",
       "</div>"
      ],
      "text/plain": [
       "              Order ID      연   월   일       Ship Mode Customer ID  \\\n",
       "count               32     32  32  32              32          32   \n",
       "unique              15      4  10  12               2          15   \n",
       "top     CA-2014-115812  2014년  6월  9일  Standard Class    BH-11710   \n",
       "freq                 7     12   8   9              22           7   \n",
       "\n",
       "          Customer Name   Segment        Country         City       State  \\\n",
       "count                32        32             32           32          32   \n",
       "unique               15         3              1           12          10   \n",
       "top     Brosina Hoffman  Consumer  United States  Los Angeles  California   \n",
       "freq                  7        27             32           10          13   \n",
       "\n",
       "       Region       Product ID         Category Sub-Category  \\\n",
       "count      32               32               32           32   \n",
       "unique      4               31                3           13   \n",
       "top      West  FUR-TA-10000577  Office Supplies      Binders   \n",
       "freq       16                2               19            6   \n",
       "\n",
       "                                         Product Name  \n",
       "count                                              32  \n",
       "unique                                             31  \n",
       "top     Bretford CR4500 Series Slim Rectangular Table  \n",
       "freq                                                2  "
      ]
     },
     "execution_count": 6,
     "metadata": {},
     "output_type": "execute_result"
    }
   ],
   "source": [
    "sp.describe(include=np.object)"
   ]
  },
  {
   "cell_type": "code",
   "execution_count": 7,
   "metadata": {
    "id": "ZsHhTecVIgQQ"
   },
   "outputs": [
    {
     "name": "stdout",
     "output_type": "stream",
     "text": [
      "Total number of data points:  704\n",
      "Total number of missing values: 0 = 0.00% of total data\n",
      "Total number of unique products:  31\n"
     ]
    }
   ],
   "source": [
    "print(\"Total number of data points: \", sp.shape[0]*sp.shape[1])\n",
    "print(\"Total number of missing values: {} = {:.2f}% of total data\".format(sp.isnull().sum().sum(), (sp.isnull().sum().sum()*100)/(sp.shape[0]*sp.shape[1])))\n",
    "print(\"Total number of unique products: \", sp['Product ID'].nunique())\n"
   ]
  },
  {
   "cell_type": "markdown",
   "metadata": {
    "id": "tmQ6Wva4Kr4I"
   },
   "source": [
    "## Questions\n",
    "\n",
    "* Which sub-category of items sold the most?\n",
    "* Which city had the highest order volume?\n",
    "* What is the order volume and sales amount by segment and region\n",
    "* Does a higher discount rate result in lower margin?\n",
    "* Which type of product has the highest revenue?\n",
    "* Can the sales volume be represented on a map?\n"
   ]
  },
  {
   "cell_type": "code",
   "execution_count": 8,
   "metadata": {
    "id": "azfqStvuKqoQ"
   },
   "outputs": [
    {
     "data": {
      "text/plain": [
       "0"
      ]
     },
     "execution_count": 8,
     "metadata": {},
     "output_type": "execute_result"
    }
   ],
   "source": [
    "sp.duplicated().sum()"
   ]
  },
  {
   "cell_type": "code",
   "execution_count": 9,
   "metadata": {
    "id": "59O7jkK1NQBn"
   },
   "outputs": [
    {
     "data": {
      "text/plain": [
       "Index(['Row ID', 'Order ID', '연', '월', '일', 'Ship Mode', 'Customer ID',\n",
       "       'Customer Name', 'Segment', 'Country', 'City', 'State', 'Postal Code',\n",
       "       'Region', 'Product ID', 'Category', 'Sub-Category', 'Product Name',\n",
       "       'Sales', 'Quantity', 'Discount', 'Profit'],\n",
       "      dtype='object')"
      ]
     },
     "execution_count": 9,
     "metadata": {},
     "output_type": "execute_result"
    }
   ],
   "source": [
    "sp.columns"
   ]
  },
  {
   "cell_type": "code",
   "execution_count": 11,
   "metadata": {
    "id": "BFk5FrW5NJoB"
   },
   "outputs": [
    {
     "ename": "ValueError",
     "evalue": "Length mismatch: Expected axis has 22 elements, new values have 20 elements",
     "output_type": "error",
     "traceback": [
      "\u001b[0;31m---------------------------------------------------------------------------\u001b[0m",
      "\u001b[0;31mValueError\u001b[0m                                Traceback (most recent call last)",
      "\u001b[0;32m/var/folders/mw/bfxttz050877klzz0426gdf80000gn/T/ipykernel_20437/2014084136.py\u001b[0m in \u001b[0;36m<module>\u001b[0;34m\u001b[0m\n\u001b[1;32m      1\u001b[0m \u001b[0;31m#simplify complex column names.\u001b[0m\u001b[0;34m\u001b[0m\u001b[0;34m\u001b[0m\u001b[0m\n\u001b[0;32m----> 2\u001b[0;31m sp.columns = ['row_id','order_id','ship_date','ship_mode','cust_id','cust_name','seg'\n\u001b[0m\u001b[1;32m      3\u001b[0m \u001b[0;34m,\u001b[0m\u001b[0;34m'country'\u001b[0m\u001b[0;34m,\u001b[0m\u001b[0;34m'city'\u001b[0m\u001b[0;34m,\u001b[0m\u001b[0;34m'state'\u001b[0m\u001b[0;34m,\u001b[0m\u001b[0;34m'post_code'\u001b[0m\u001b[0;34m,\u001b[0m\u001b[0;34m'region'\u001b[0m\u001b[0;34m,\u001b[0m\u001b[0;34m'product_id'\u001b[0m\u001b[0;34m,\u001b[0m\u001b[0;34m'category'\u001b[0m\u001b[0;34m,\u001b[0m\u001b[0;34m'subcategory'\u001b[0m\u001b[0;34m,\u001b[0m\u001b[0;34m'product_name'\u001b[0m\u001b[0;34m\u001b[0m\u001b[0;34m\u001b[0m\u001b[0m\n\u001b[1;32m      4\u001b[0m ,'sales','quantity','discount','profit']\n",
      "\u001b[0;32m/opt/anaconda3/lib/python3.9/site-packages/pandas/core/generic.py\u001b[0m in \u001b[0;36m__setattr__\u001b[0;34m(self, name, value)\u001b[0m\n\u001b[1;32m   5586\u001b[0m         \u001b[0;32mtry\u001b[0m\u001b[0;34m:\u001b[0m\u001b[0;34m\u001b[0m\u001b[0;34m\u001b[0m\u001b[0m\n\u001b[1;32m   5587\u001b[0m             \u001b[0mobject\u001b[0m\u001b[0;34m.\u001b[0m\u001b[0m__getattribute__\u001b[0m\u001b[0;34m(\u001b[0m\u001b[0mself\u001b[0m\u001b[0;34m,\u001b[0m \u001b[0mname\u001b[0m\u001b[0;34m)\u001b[0m\u001b[0;34m\u001b[0m\u001b[0;34m\u001b[0m\u001b[0m\n\u001b[0;32m-> 5588\u001b[0;31m             \u001b[0;32mreturn\u001b[0m \u001b[0mobject\u001b[0m\u001b[0;34m.\u001b[0m\u001b[0m__setattr__\u001b[0m\u001b[0;34m(\u001b[0m\u001b[0mself\u001b[0m\u001b[0;34m,\u001b[0m \u001b[0mname\u001b[0m\u001b[0;34m,\u001b[0m \u001b[0mvalue\u001b[0m\u001b[0;34m)\u001b[0m\u001b[0;34m\u001b[0m\u001b[0;34m\u001b[0m\u001b[0m\n\u001b[0m\u001b[1;32m   5589\u001b[0m         \u001b[0;32mexcept\u001b[0m \u001b[0mAttributeError\u001b[0m\u001b[0;34m:\u001b[0m\u001b[0;34m\u001b[0m\u001b[0;34m\u001b[0m\u001b[0m\n\u001b[1;32m   5590\u001b[0m             \u001b[0;32mpass\u001b[0m\u001b[0;34m\u001b[0m\u001b[0;34m\u001b[0m\u001b[0m\n",
      "\u001b[0;32m/opt/anaconda3/lib/python3.9/site-packages/pandas/_libs/properties.pyx\u001b[0m in \u001b[0;36mpandas._libs.properties.AxisProperty.__set__\u001b[0;34m()\u001b[0m\n",
      "\u001b[0;32m/opt/anaconda3/lib/python3.9/site-packages/pandas/core/generic.py\u001b[0m in \u001b[0;36m_set_axis\u001b[0;34m(self, axis, labels)\u001b[0m\n\u001b[1;32m    767\u001b[0m     \u001b[0;32mdef\u001b[0m \u001b[0m_set_axis\u001b[0m\u001b[0;34m(\u001b[0m\u001b[0mself\u001b[0m\u001b[0;34m,\u001b[0m \u001b[0maxis\u001b[0m\u001b[0;34m:\u001b[0m \u001b[0mint\u001b[0m\u001b[0;34m,\u001b[0m \u001b[0mlabels\u001b[0m\u001b[0;34m:\u001b[0m \u001b[0mIndex\u001b[0m\u001b[0;34m)\u001b[0m \u001b[0;34m->\u001b[0m \u001b[0;32mNone\u001b[0m\u001b[0;34m:\u001b[0m\u001b[0;34m\u001b[0m\u001b[0;34m\u001b[0m\u001b[0m\n\u001b[1;32m    768\u001b[0m         \u001b[0mlabels\u001b[0m \u001b[0;34m=\u001b[0m \u001b[0mensure_index\u001b[0m\u001b[0;34m(\u001b[0m\u001b[0mlabels\u001b[0m\u001b[0;34m)\u001b[0m\u001b[0;34m\u001b[0m\u001b[0;34m\u001b[0m\u001b[0m\n\u001b[0;32m--> 769\u001b[0;31m         \u001b[0mself\u001b[0m\u001b[0;34m.\u001b[0m\u001b[0m_mgr\u001b[0m\u001b[0;34m.\u001b[0m\u001b[0mset_axis\u001b[0m\u001b[0;34m(\u001b[0m\u001b[0maxis\u001b[0m\u001b[0;34m,\u001b[0m \u001b[0mlabels\u001b[0m\u001b[0;34m)\u001b[0m\u001b[0;34m\u001b[0m\u001b[0;34m\u001b[0m\u001b[0m\n\u001b[0m\u001b[1;32m    770\u001b[0m         \u001b[0mself\u001b[0m\u001b[0;34m.\u001b[0m\u001b[0m_clear_item_cache\u001b[0m\u001b[0;34m(\u001b[0m\u001b[0;34m)\u001b[0m\u001b[0;34m\u001b[0m\u001b[0;34m\u001b[0m\u001b[0m\n\u001b[1;32m    771\u001b[0m \u001b[0;34m\u001b[0m\u001b[0m\n",
      "\u001b[0;32m/opt/anaconda3/lib/python3.9/site-packages/pandas/core/internals/managers.py\u001b[0m in \u001b[0;36mset_axis\u001b[0;34m(self, axis, new_labels)\u001b[0m\n\u001b[1;32m    212\u001b[0m     \u001b[0;32mdef\u001b[0m \u001b[0mset_axis\u001b[0m\u001b[0;34m(\u001b[0m\u001b[0mself\u001b[0m\u001b[0;34m,\u001b[0m \u001b[0maxis\u001b[0m\u001b[0;34m:\u001b[0m \u001b[0mint\u001b[0m\u001b[0;34m,\u001b[0m \u001b[0mnew_labels\u001b[0m\u001b[0;34m:\u001b[0m \u001b[0mIndex\u001b[0m\u001b[0;34m)\u001b[0m \u001b[0;34m->\u001b[0m \u001b[0;32mNone\u001b[0m\u001b[0;34m:\u001b[0m\u001b[0;34m\u001b[0m\u001b[0;34m\u001b[0m\u001b[0m\n\u001b[1;32m    213\u001b[0m         \u001b[0;31m# Caller is responsible for ensuring we have an Index object.\u001b[0m\u001b[0;34m\u001b[0m\u001b[0;34m\u001b[0m\u001b[0m\n\u001b[0;32m--> 214\u001b[0;31m         \u001b[0mself\u001b[0m\u001b[0;34m.\u001b[0m\u001b[0m_validate_set_axis\u001b[0m\u001b[0;34m(\u001b[0m\u001b[0maxis\u001b[0m\u001b[0;34m,\u001b[0m \u001b[0mnew_labels\u001b[0m\u001b[0;34m)\u001b[0m\u001b[0;34m\u001b[0m\u001b[0;34m\u001b[0m\u001b[0m\n\u001b[0m\u001b[1;32m    215\u001b[0m         \u001b[0mself\u001b[0m\u001b[0;34m.\u001b[0m\u001b[0maxes\u001b[0m\u001b[0;34m[\u001b[0m\u001b[0maxis\u001b[0m\u001b[0;34m]\u001b[0m \u001b[0;34m=\u001b[0m \u001b[0mnew_labels\u001b[0m\u001b[0;34m\u001b[0m\u001b[0;34m\u001b[0m\u001b[0m\n\u001b[1;32m    216\u001b[0m \u001b[0;34m\u001b[0m\u001b[0m\n",
      "\u001b[0;32m/opt/anaconda3/lib/python3.9/site-packages/pandas/core/internals/base.py\u001b[0m in \u001b[0;36m_validate_set_axis\u001b[0;34m(self, axis, new_labels)\u001b[0m\n\u001b[1;32m     67\u001b[0m \u001b[0;34m\u001b[0m\u001b[0m\n\u001b[1;32m     68\u001b[0m         \u001b[0;32melif\u001b[0m \u001b[0mnew_len\u001b[0m \u001b[0;34m!=\u001b[0m \u001b[0mold_len\u001b[0m\u001b[0;34m:\u001b[0m\u001b[0;34m\u001b[0m\u001b[0;34m\u001b[0m\u001b[0m\n\u001b[0;32m---> 69\u001b[0;31m             raise ValueError(\n\u001b[0m\u001b[1;32m     70\u001b[0m                 \u001b[0;34mf\"Length mismatch: Expected axis has {old_len} elements, new \"\u001b[0m\u001b[0;34m\u001b[0m\u001b[0;34m\u001b[0m\u001b[0m\n\u001b[1;32m     71\u001b[0m                 \u001b[0;34mf\"values have {new_len} elements\"\u001b[0m\u001b[0;34m\u001b[0m\u001b[0;34m\u001b[0m\u001b[0m\n",
      "\u001b[0;31mValueError\u001b[0m: Length mismatch: Expected axis has 22 elements, new values have 20 elements"
     ]
    }
   ],
   "source": [
    "#simplify complex column names.\n",
    "sp.columns = ['row_id','order_id','order_date','ship_date','ship_mode','cust_id','cust_name','seg'\n",
    ",'country','city','state','post_code','region','product_id','category','subcategory','product_name'\n",
    ",'sales','quantity','discount','profit']"
   ]
  },
  {
   "cell_type": "code",
   "execution_count": null,
   "metadata": {
    "id": "u6HySUtLN_2p"
   },
   "outputs": [],
   "source": [
    "sp.columns"
   ]
  },
  {
   "cell_type": "code",
   "execution_count": null,
   "metadata": {
    "id": "px6nbZ3iOmKl"
   },
   "outputs": [],
   "source": [
    "#no use for postal code \n",
    "sp1 = sp.drop(['post_code'],axis=1)\n",
    "sp1.info()"
   ]
  },
  {
   "cell_type": "markdown",
   "metadata": {
    "id": "Tu2dicU6LbZJ"
   },
   "source": [
    "##4.EDA & Visualization"
   ]
  },
  {
   "cell_type": "code",
   "execution_count": null,
   "metadata": {
    "id": "gDwuGBcBFd9w"
   },
   "outputs": [],
   "source": [
    "#Top 10 Products by Order Ranking\n",
    "sp1['product_name'].value_counts().head(10)"
   ]
  },
  {
   "cell_type": "code",
   "execution_count": null,
   "metadata": {
    "id": "B2LOc5EyGO-w"
   },
   "outputs": [],
   "source": [
    "#Check the distribution of sales amount and discount rate by category using a violin plot.\n",
    "f, ax = plt.subplots(1, 2, figsize=(13, 7))\n",
    "\n",
    "#violin plot\n",
    "sns.violinplot(x=sp['category'], y=sp1['sales'], ax=ax[0])\n",
    "sns.violinplot(x=sp['category'], y=sp1['discount']*100, ax=ax[1])"
   ]
  },
  {
   "cell_type": "code",
   "execution_count": null,
   "metadata": {
    "id": "rT0Db2y5Jnxd"
   },
   "outputs": [],
   "source": [
    "#What sub-category has the highest order volume?\n",
    "\n",
    "plt.figure(figsize=(12,10))\n",
    "\n",
    "sp['subcategory'].value_counts().plot.pie(autopct=\"%1.1f%%\")\n",
    "\n",
    "plt.show()"
   ]
  },
  {
   "cell_type": "code",
   "execution_count": null,
   "metadata": {
    "id": "UxLnvJ_qJFyD"
   },
   "outputs": [],
   "source": [
    "#Top 10 Cities with the highest order volume\n",
    "top_cities= sp['city'].value_counts().nlargest(20)\n",
    "top_cities"
   ]
  },
  {
   "cell_type": "code",
   "execution_count": null,
   "metadata": {
    "id": "nVm0G2vbObNQ"
   },
   "outputs": [],
   "source": [
    "f, ax = plt.subplots(1, 1, figsize=(18, 8))\n",
    "\n",
    "g = sns.countplot(sp1['state'].sort_values(), ax=ax)\n",
    "g.set_xticklabels(g.get_xticklabels(),rotation=90)\n",
    "g.set_title('State', size=15)\n",
    "g.set_ylabel('')\n",
    "\n",
    "\n",
    "plt.show()"
   ]
  },
  {
   "cell_type": "code",
   "execution_count": null,
   "metadata": {
    "id": "DePbNBGsUyOt"
   },
   "outputs": [],
   "source": [
    "#Order Volume by Segment and Region\n",
    "#Consumer segment has the highest order volume and the Western region has the highest order volume.\n",
    "f, ax = plt.subplots(1, 2, figsize=(14, 6))\n",
    "\n",
    "sns.countplot(x=sp1['seg'], palette ='magma', ax=ax[0])\n",
    "ax[0].set_title('Segment')\n",
    "\n",
    "sns.countplot(x=sp1['region'], palette ='magma', ax=ax[1])\n",
    "ax[1].set_title('Region')\n",
    "ax[1].set_ylabel('')\n",
    "\n",
    "plt.show()"
   ]
  },
  {
   "cell_type": "code",
   "execution_count": null,
   "metadata": {
    "id": "tGejQW7wb2BO"
   },
   "outputs": [],
   "source": [
    "f, ax = plt.subplots(1, 1, figsize=(10, 6))\n",
    "\n",
    "sns.lineplot('discount', 'profit', data = sp1, color = 'r', ax=ax)\n",
    "\n",
    "ax.set_xlabel('Discount (%)')\n",
    "ax.set_ylabel('profit ($)')\n",
    "\n",
    "plt.show()"
   ]
  },
  {
   "cell_type": "code",
   "execution_count": null,
   "metadata": {
    "id": "D4cwJVVDS9BX"
   },
   "outputs": [],
   "source": [
    "#Calculate Correlations\n",
    "sp_corr = sp1[['sales','quantity','discount','profit']].corr()\n",
    "sp_corr"
   ]
  },
  {
   "cell_type": "code",
   "execution_count": null,
   "metadata": {
    "id": "dZsYM1jhX491"
   },
   "outputs": [],
   "source": [
    "\n",
    "f, ax = plt.subplots(1, 1, figsize=(9, 8))\n",
    "sns.heatmap(sp_corr, annot=True, cmap='YlGnBu', ax=ax)\n",
    "plt.title('sales, quantity, discount, profit of corr', size=15)\n",
    "\n"
   ]
  },
  {
   "cell_type": "code",
   "execution_count": null,
   "metadata": {
    "id": "yPc7oqOFe4O_"
   },
   "outputs": [],
   "source": [
    "top_prd1 = sp1.groupby(['product_name']).sum().sort_values('sales',ascending=False).head(10)"
   ]
  },
  {
   "cell_type": "code",
   "execution_count": null,
   "metadata": {
    "id": "7Y-IqckufNOy"
   },
   "outputs": [],
   "source": [
    "top_prd1.reset_index(inplace=True)\n",
    "top_prd1"
   ]
  },
  {
   "cell_type": "code",
   "execution_count": null,
   "metadata": {
    "id": "LIqS6cH0igNg"
   },
   "outputs": [],
   "source": [
    "\n",
    "f, ax = plt.subplots(1, 1, figsize=(9, 8))\n",
    "\n",
    "ax.pie(top_prd1['sales'], labels=top_prd1['product_name'], autopct=\"%1.1f%%\", startangle=0)\n",
    "ax.set_ylabel('')\n",
    "\n",
    "center_circle = plt.Circle((0,0), 0.5, fc='white')\n",
    "fig = plt.gcf()\n",
    "fig.gca().add_artist(center_circle)\n",
    "\n",
    "ax.axis('equal') \n",
    "label = ax.annotate('top 10 products by sales', color='black', xy=(0, -0.07), fontsize=15, ha=\"center\")\n",
    "\n",
    "plt.show()"
   ]
  },
  {
   "cell_type": "code",
   "execution_count": null,
   "metadata": {
    "id": "mIuuko27dscv"
   },
   "outputs": [],
   "source": [
    "sales = sp1.groupby(['state']).sum().sort_values('sales', ascending=False)\n",
    "sales.reset_index(level=0, inplace=True)\n",
    "sales"
   ]
  },
  {
   "cell_type": "code",
   "execution_count": null,
   "metadata": {
    "id": "AXRKyHfGVrR2"
   },
   "outputs": [],
   "source": [
    "dc = sales[sales['state'] == 'District of Columbia'].index\n",
    "sales = sales.drop(dc)\n",
    "sales"
   ]
  },
  {
   "cell_type": "code",
   "execution_count": null,
   "metadata": {
    "id": "4coHdh0eCXGM"
   },
   "outputs": [],
   "source": [
    "state = ['Alabama', 'Arizona' ,'Arkansas', 'California', 'Colorado', 'Connecticut', 'Delaware', 'Florida', \n",
    "         'Georgia', 'Idaho', 'Illinois', 'Indiana', 'Iowa', 'Kansas', 'Kentucky', 'Louisiana', 'Maine', 'Maryland',\n",
    "         'Massachusetts', 'Michigan', 'Minnesota', 'Mississippi', 'Missouri', 'Montana','Nebraska', 'Nevada', 'New Hampshire',\n",
    "         'New Jersey', 'New Mexico', 'New York', 'North Carolina', 'North Dakota', 'Ohio', 'Oklahoma', 'Oregon', 'Pennsylvania',\n",
    "         'Rhode Island', 'South Carolina', 'South Dakota', 'Tennessee', 'Texas', 'Utah', 'Vermont', 'Virginia', 'Washington',\n",
    "         'West Virginia', 'Wisconsin','Wyoming']\n",
    "state_code = ['AL','AZ','AR','CA','CO','CT','DE','FL','GA','ID','IL','IN','IA','KS','KY','LA','ME','MD','MA',\n",
    "              'MI','MN','MS','MO','MT','NE','NV','NH','NJ','NM','NY','NC','ND','OH','OK','OR','PA','RI','SC','SD','TN',\n",
    "              'TX','UT','VT','VA','WA','WV','WI','WY']\n",
    "\n",
    "\n",
    "state_cd = pd.DataFrame(state, state_code)\n",
    "state_cd\n",
    "state_cd.reset_index(inplace=True)\n",
    "state_cd.columns = ['state_cd','state']\n",
    "state_cd"
   ]
  },
  {
   "cell_type": "code",
   "execution_count": null,
   "metadata": {
    "id": "EFLPDNFKTNwh"
   },
   "outputs": [],
   "source": [
    "sales= sales.sort_values('state', ascending=True)\n",
    "sales.reset_index(inplace = True)\n",
    "sales.insert(1, 'state_cd', state_cd['state_cd'])\n",
    "sales"
   ]
  },
  {
   "cell_type": "code",
   "execution_count": null,
   "metadata": {
    "id": "ItOhJdYwDFXW"
   },
   "outputs": [],
   "source": [
    "sales.drop('index',1,inplace = True)\n",
    "sales\n"
   ]
  },
  {
   "cell_type": "code",
   "execution_count": null,
   "metadata": {
    "id": "8MDkOI_aIUPM"
   },
   "outputs": [],
   "source": [
    "import plotly.express as px\n",
    "  \n",
    "fig = px.choropleth(locations=sales['state_cd'], locationmode=\"USA-states\", color=sales['sales'], scope=\"usa\"\n",
    ", color_continuous_scale='peach', title='주 별 총 판매금액')\n",
    "\n",
    "fig.show()"
   ]
  },
  {
   "cell_type": "markdown",
   "metadata": {
    "id": "ezAJFAca52NP"
   },
   "source": [
    "### Review"
   ]
  },
  {
   "cell_type": "markdown",
   "metadata": {
    "id": "MTDGhl_p55ZY"
   },
   "source": [
    "* What type of item (sub-category) sold the most?\n",
    "  Binder sold the most at 15.2%\n",
    "* Which city had the highest order volume?\n",
    "  California, New York, Texas had the highest order volume in that order\n",
    "* What is the order volume by segment and region?\n",
    "  Consumer segment had the highest order volume and the Western region had the highest order volume.\n",
    "* Does the margin decrease as the discount rate increases?\n",
    "  When the discount rate is 50%, the margin is the lowest!\n",
    "* Which product has the highest sales?\n",
    "  canon imageCLASS 2200 Advanced Copier had the highest sales!\n",
    "* Can we show sales volume on a map?\n",
    "  Yes"
   ]
  }
 ],
 "metadata": {
  "colab": {
   "authorship_tag": "ABX9TyNii2HmgzBeUF5nFeiHIZIy",
   "collapsed_sections": [],
   "name": "파이썬실습04_Superstore_sol.ipynb",
   "provenance": [],
   "toc_visible": true
  },
  "kernelspec": {
   "display_name": "Python 3 (ipykernel)",
   "language": "python",
   "name": "python3"
  },
  "language_info": {
   "codemirror_mode": {
    "name": "ipython",
    "version": 3
   },
   "file_extension": ".py",
   "mimetype": "text/x-python",
   "name": "python",
   "nbconvert_exporter": "python",
   "pygments_lexer": "ipython3",
   "version": "3.9.13"
  }
 },
 "nbformat": 4,
 "nbformat_minor": 1
}
