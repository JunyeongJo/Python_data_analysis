{
 "cells": [
  {
   "cell_type": "markdown",
   "metadata": {
    "id": "5Sv4-2BXQlD6"
   },
   "source": [
    "#Data 01: Starwars\n"
   ]
  },
  {
   "cell_type": "code",
   "execution_count": null,
   "metadata": {
    "colab": {
     "base_uri": "https://localhost:8080/"
    },
    "executionInfo": {
     "elapsed": 8060,
     "status": "ok",
     "timestamp": 1662391610810,
     "user": {
      "displayName": "Junyeong Jo",
      "userId": "13302344713207402727"
     },
     "user_tz": 240
    },
    "id": "oyWD0jl_QGGw",
    "outputId": "ce1f30ba-d77e-491d-b4cf-12938d168e59"
   },
   "outputs": [
    {
     "name": "stdout",
     "output_type": "stream",
     "text": [
      "Password:\n",
      "sudo: a password is required\n",
      "Password:"
     ]
    }
   ],
   "source": []
  },
  {
   "cell_type": "code",
   "execution_count": null,
   "metadata": {
    "executionInfo": {
     "elapsed": 123,
     "status": "ok",
     "timestamp": 1662399199776,
     "user": {
      "displayName": "Junyeong Jo",
      "userId": "13302344713207402727"
     },
     "user_tz": 240
    },
    "id": "cA4s3-EsQuaA"
   },
   "outputs": [],
   "source": [
    "import math\n",
    "import numpy as np\n",
    "import pandas as pd\n",
    "import seaborn as sns\n",
    "import matplotlib.pyplot as plt\n",
    "\n",
    "plt.style.use('seaborn') \n",
    "sns.set(font_scale=1)\n",
    "\n",
    "import warnings \n",
    "warnings.simplefilter(action='ignore', category=FutureWarning)"
   ]
  },
  {
   "cell_type": "code",
   "execution_count": null,
   "metadata": {
    "executionInfo": {
     "elapsed": 115,
     "status": "ok",
     "timestamp": 1662391744213,
     "user": {
      "displayName": "Junyeong Jo",
      "userId": "13302344713207402727"
     },
     "user_tz": 240
    },
    "id": "hEg0CjFfRELK"
   },
   "outputs": [],
   "source": [
    "sw = pd.read_csv('Starwars.csv')"
   ]
  },
  {
   "cell_type": "code",
   "execution_count": null,
   "metadata": {
    "colab": {
     "base_uri": "https://localhost:8080/"
    },
    "executionInfo": {
     "elapsed": 117,
     "status": "ok",
     "timestamp": 1662393691258,
     "user": {
      "displayName": "Junyeong Jo",
      "userId": "13302344713207402727"
     },
     "user_tz": 240
    },
    "id": "AGkHkBFqRPVt",
    "outputId": "015b6e7b-7223-4585-fbfd-2c03f6cb331c"
   },
   "outputs": [],
   "source": [
    "sw.head(10)"
   ]
  },
  {
   "cell_type": "code",
   "execution_count": null,
   "metadata": {
    "colab": {
     "base_uri": "https://localhost:8080/"
    },
    "executionInfo": {
     "elapsed": 312,
     "status": "ok",
     "timestamp": 1662391808855,
     "user": {
      "displayName": "Junyeong Jo",
      "userId": "13302344713207402727"
     },
     "user_tz": 240
    },
    "id": "DDIfTW0qRdCY",
    "outputId": "292f2d30-138d-42f1-8663-32f5d2800d96"
   },
   "outputs": [],
   "source": [
    "#Check basic info\n",
    "sw.info()"
   ]
  },
  {
   "cell_type": "code",
   "execution_count": null,
   "metadata": {
    "colab": {
     "base_uri": "https://localhost:8080/",
     "height": 300
    },
    "executionInfo": {
     "elapsed": 120,
     "status": "ok",
     "timestamp": 1662391847006,
     "user": {
      "displayName": "Junyeong Jo",
      "userId": "13302344713207402727"
     },
     "user_tz": 240
    },
    "id": "oaceKSzARiwI",
    "outputId": "bcc98b52-eccb-464b-cae9-dde79a2f03d0"
   },
   "outputs": [],
   "source": [
    "#Check Continuous data\n",
    "sw.describe()"
   ]
  },
  {
   "cell_type": "code",
   "execution_count": null,
   "metadata": {
    "colab": {
     "base_uri": "https://localhost:8080/",
     "height": 247
    },
    "executionInfo": {
     "elapsed": 114,
     "status": "ok",
     "timestamp": 1662391917671,
     "user": {
      "displayName": "Junyeong Jo",
      "userId": "13302344713207402727"
     },
     "user_tz": 240
    },
    "id": "VB7TU7qbRoZu",
    "outputId": "91157e25-d3e5-4614-f3e0-3b267c3fdd75"
   },
   "outputs": [],
   "source": [
    "sw.describe(include=np.object)"
   ]
  },
  {
   "cell_type": "code",
   "execution_count": null,
   "metadata": {
    "colab": {
     "base_uri": "https://localhost:8080/"
    },
    "executionInfo": {
     "elapsed": 136,
     "status": "ok",
     "timestamp": 1662393747459,
     "user": {
      "displayName": "Junyeong Jo",
      "userId": "13302344713207402727"
     },
     "user_tz": 240
    },
    "id": "IhlhY3w_R5sH",
    "outputId": "5b688041-7f38-4eae-eada-a9c686bf0aea"
   },
   "outputs": [],
   "source": [
    "\n",
    "print('Hair colour: ', sw['hair_color'].unique())\n",
    "print('Skin colour: ', sw['skin_color'].unique())\n",
    "print('Eye colour: ', sw['eye_color'].unique())\n",
    "print('Sex: ', sw['sex'].unique())\n",
    "print('Gender: ', sw['gender'].unique())\n",
    "print('Homeworld: ', sw['homeworld'].unique())\n",
    "print('Species: ', sw['species'].unique())\n"
   ]
  },
  {
   "cell_type": "code",
   "execution_count": null,
   "metadata": {
    "colab": {
     "base_uri": "https://localhost:8080/"
    },
    "executionInfo": {
     "elapsed": 110,
     "status": "ok",
     "timestamp": 1662393832882,
     "user": {
      "displayName": "Junyeong Jo",
      "userId": "13302344713207402727"
     },
     "user_tz": 240
    },
    "id": "_fjhqh27SPdt",
    "outputId": "0d0bc1e3-f247-42a6-8e5b-75bc845b66ed"
   },
   "outputs": [],
   "source": [
    "# Summary of the data\n",
    "print(\"Total number of data: \", sw.shape[0]*sw.shape[1])\n",
    "print(\"Total number of null in the data: {} = total of {:.2f}% \".format(sw.isnull().sum().sum(), (sw.isnull().sum().sum()*100)/(sw.shape[0]*sw.shape[1])))\n",
    "print(\"Number of Charecters appearing in Starwars: \", sw['name'].nunique())\n",
    "print(\"Number of Speices appearing in Starwars: \", sw['species'].nunique())"
   ]
  },
  {
   "cell_type": "code",
   "execution_count": null,
   "metadata": {
    "colab": {
     "base_uri": "https://localhost:8080/"
    },
    "executionInfo": {
     "elapsed": 138,
     "status": "ok",
     "timestamp": 1662397115190,
     "user": {
      "displayName": "Junyeong Jo",
      "userId": "13302344713207402727"
     },
     "user_tz": 240
    },
    "id": "kqqwHUKBljan",
    "outputId": "4015eddb-9e92-40d6-f503-89d255dfd656"
   },
   "outputs": [],
   "source": [
    "#check null columns\n",
    "sw.isnull().any(axis=0)\n"
   ]
  },
  {
   "cell_type": "code",
   "execution_count": null,
   "metadata": {
    "colab": {
     "base_uri": "https://localhost:8080/"
    },
    "executionInfo": {
     "elapsed": 255,
     "status": "ok",
     "timestamp": 1662397278386,
     "user": {
      "displayName": "Junyeong Jo",
      "userId": "13302344713207402727"
     },
     "user_tz": 240
    },
    "id": "rBFu-NX8luoc",
    "outputId": "4cd63e1e-ae9b-4725-ec44-2321118e0924"
   },
   "outputs": [],
   "source": [
    "\n",
    "sw.isnull().sum()"
   ]
  },
  {
   "cell_type": "code",
   "execution_count": null,
   "metadata": {
    "colab": {
     "base_uri": "https://localhost:8080/",
     "height": 268
    },
    "executionInfo": {
     "elapsed": 122,
     "status": "ok",
     "timestamp": 1662397226578,
     "user": {
      "displayName": "Junyeong Jo",
      "userId": "13302344713207402727"
     },
     "user_tz": 240
    },
    "id": "QYDirPZ7l4Ep",
    "outputId": "53331dc6-a0e9-4d81-d2a0-740559c93d41"
   },
   "outputs": [],
   "source": [
    "# cleaning the null values\n",
    "sw['mass'].fillna(0, inplace=True)\n",
    "sw['height'].fillna(0, inplace=True)\n",
    "sw.head()"
   ]
  },
  {
   "cell_type": "code",
   "execution_count": null,
   "metadata": {
    "colab": {
     "base_uri": "https://localhost:8080/"
    },
    "executionInfo": {
     "elapsed": 109,
     "status": "ok",
     "timestamp": 1662397347529,
     "user": {
      "displayName": "Junyeong Jo",
      "userId": "13302344713207402727"
     },
     "user_tz": 240
    },
    "id": "xSTnnGUDmJyR",
    "outputId": "b231c968-3a83-4e4d-825b-b48bbb0884fc"
   },
   "outputs": [],
   "source": [
    "\n",
    "print(sw[sw['sex'] == 'none'])\n",
    "print(sw[sw['sex'].isnull()])"
   ]
  },
  {
   "cell_type": "code",
   "execution_count": null,
   "metadata": {
    "colab": {
     "base_uri": "https://localhost:8080/"
    },
    "executionInfo": {
     "elapsed": 143,
     "status": "ok",
     "timestamp": 1662397367019,
     "user": {
      "displayName": "Junyeong Jo",
      "userId": "13302344713207402727"
     },
     "user_tz": 240
    },
    "id": "qmbL2JG6mnXA",
    "outputId": "4c743745-6ae8-46da-dd36-653d54ad1c8a"
   },
   "outputs": [],
   "source": [
    "sw['sex'][(sw['sex'] == 'none')] = 'robot'\n",
    "print('Sex: ', sw['sex'].unique())"
   ]
  },
  {
   "cell_type": "code",
   "execution_count": null,
   "metadata": {
    "colab": {
     "base_uri": "https://localhost:8080/"
    },
    "executionInfo": {
     "elapsed": 114,
     "status": "ok",
     "timestamp": 1662397449843,
     "user": {
      "displayName": "Junyeong Jo",
      "userId": "13302344713207402727"
     },
     "user_tz": 240
    },
    "id": "_X2xeAQRm09d",
    "outputId": "475b5893-b07f-46ae-d15f-0efe74fd0b5e"
   },
   "outputs": [],
   "source": [
    "# Ratio of sex and gender\n",
    "sw['gender'].value_counts()\n",
    "sw['sex'].value_counts()"
   ]
  },
  {
   "cell_type": "code",
   "execution_count": null,
   "metadata": {
    "colab": {
     "base_uri": "https://localhost:8080/",
     "height": 459
    },
    "executionInfo": {
     "elapsed": 1057,
     "status": "ok",
     "timestamp": 1662397643545,
     "user": {
      "displayName": "Junyeong Jo",
      "userId": "13302344713207402727"
     },
     "user_tz": 240
    },
    "id": "gKAR8_aLnCDW",
    "outputId": "4d960a08-86ee-4720-d37a-e26b1ec270d1"
   },
   "outputs": [],
   "source": [
    "f, ax = plt.subplots(1, 2, figsize=(18, 8)) \n",
    "\n",
    "\n",
    "sw['gender'].value_counts().plot.pie(ax=ax[0], autopct='%1.0f%%', shadow=True) #파이그래프 그리기\n",
    "ax[0].set_title('Starwars: Gender', size=18) \n",
    "\n",
    "\n",
    "sns.countplot(y='sex', data=sw, ax=ax[1])\n",
    "ax[1].set_title('Starwars: Sex', size=18) \n",
    "\n",
    "plt.show()"
   ]
  },
  {
   "cell_type": "code",
   "execution_count": null,
   "metadata": {
    "colab": {
     "base_uri": "https://localhost:8080/"
    },
    "executionInfo": {
     "elapsed": 120,
     "status": "ok",
     "timestamp": 1662397688502,
     "user": {
      "displayName": "Junyeong Jo",
      "userId": "13302344713207402727"
     },
     "user_tz": 240
    },
    "id": "nnuB0q_enUIi",
    "outputId": "489fd7c7-729d-4fe9-d0c7-8e3b09a993e4"
   },
   "outputs": [],
   "source": [
    "sw['height'].describe()"
   ]
  },
  {
   "cell_type": "code",
   "execution_count": null,
   "metadata": {
    "colab": {
     "base_uri": "https://localhost:8080/"
    },
    "executionInfo": {
     "elapsed": 157,
     "status": "ok",
     "timestamp": 1662397746793,
     "user": {
      "displayName": "Junyeong Jo",
      "userId": "13302344713207402727"
     },
     "user_tz": 240
    },
    "id": "4tI2YWxXn-5q",
    "outputId": "3ef14d4a-1f30-4d62-f6f4-25ff5fdf1d23"
   },
   "outputs": [],
   "source": [
    "print(\"Skewness: %f\" % sw['height'].skew())\n",
    "print(\"Kurtosis: %f\" % sw['height'].kurt())"
   ]
  },
  {
   "cell_type": "code",
   "execution_count": null,
   "metadata": {
    "colab": {
     "base_uri": "https://localhost:8080/",
     "height": 179
    },
    "executionInfo": {
     "elapsed": 114,
     "status": "ok",
     "timestamp": 1662397813681,
     "user": {
      "displayName": "Junyeong Jo",
      "userId": "13302344713207402727"
     },
     "user_tz": 240
    },
    "id": "L36Hinr0oI1D",
    "outputId": "e24b3178-d15a-48c0-d7a8-dd344cd5d477"
   },
   "outputs": [],
   "source": [
    "sw[sw['sex'] == 'hermaphroditic'].head()"
   ]
  },
  {
   "cell_type": "code",
   "execution_count": null,
   "metadata": {
    "colab": {
     "base_uri": "https://localhost:8080/",
     "height": 314
    },
    "executionInfo": {
     "elapsed": 1240,
     "status": "ok",
     "timestamp": 1662397950929,
     "user": {
      "displayName": "Junyeong Jo",
      "userId": "13302344713207402727"
     },
     "user_tz": 240
    },
    "id": "g4YwkF6SobAr",
    "outputId": "0c98fecf-7752-40e2-e67b-c14109bf1a62"
   },
   "outputs": [],
   "source": [
    "fig, ax = plt.subplots(1, 2, figsize=(16, 5))\n",
    "\n",
    "#sns.distplot\n",
    "sns.distplot(sw[sw['sex'] == 'male']['height'], ax=ax[0])\n",
    "sns.distplot(sw[sw['sex'] == 'female']['height'], ax=ax[0])\n",
    "sns.distplot(sw[sw['sex'] == 'robot']['height'], ax=ax[0])\n",
    "ax[0].legend(['male','female','robot'])\n",
    "\n",
    "#sns.kdeplot\n",
    "sns.kdeplot(sw[sw['gender'] == 'masculine']['height'], ax=ax[1])\n",
    "sns.kdeplot(sw[sw['gender'] == 'feminine']['height'], ax=ax[1])\n",
    "ax[1].legend(['masculine','feminine'])\n",
    "\n",
    "plt.show()"
   ]
  },
  {
   "cell_type": "code",
   "execution_count": null,
   "metadata": {
    "colab": {
     "base_uri": "https://localhost:8080/"
    },
    "executionInfo": {
     "elapsed": 115,
     "status": "ok",
     "timestamp": 1662397974141,
     "user": {
      "displayName": "Junyeong Jo",
      "userId": "13302344713207402727"
     },
     "user_tz": 240
    },
    "id": "z6nHNiLOo6Zw",
    "outputId": "d12d861d-675b-48c8-feea-1bb0f3aae394"
   },
   "outputs": [],
   "source": [
    "notz = sw[sw['mass'] != 0]\n",
    "min(notz['mass'])"
   ]
  },
  {
   "cell_type": "code",
   "execution_count": null,
   "metadata": {
    "colab": {
     "base_uri": "https://localhost:8080/"
    },
    "executionInfo": {
     "elapsed": 112,
     "status": "ok",
     "timestamp": 1662398061817,
     "user": {
      "displayName": "Junyeong Jo",
      "userId": "13302344713207402727"
     },
     "user_tz": 240
    },
    "id": "kxbrHkXIpFS5",
    "outputId": "2e902b15-8476-4cea-c3bc-b1898e757902"
   },
   "outputs": [],
   "source": [
    "print(\"{} of weight{} is the lightest \".format(notz[notz['mass'] == min(notz['mass'])]['name'].values, min(notz['mass'])))\n",
    "print(\"{} of weight{} is the heaviest \".format(notz[notz['mass'] == max(notz['mass'])]['name'].values, max(notz['mass'])))"
   ]
  },
  {
   "cell_type": "code",
   "execution_count": null,
   "metadata": {
    "colab": {
     "base_uri": "https://localhost:8080/",
     "height": 1000
    },
    "executionInfo": {
     "elapsed": 132,
     "status": "ok",
     "timestamp": 1662398750242,
     "user": {
      "displayName": "Junyeong Jo",
      "userId": "13302344713207402727"
     },
     "user_tz": 240
    },
    "id": "JWsJL2MApcFo",
    "outputId": "4d64a909-05d0-437e-fdaa-aa6e95ff8e92"
   },
   "outputs": [],
   "source": [
    "# Avg weight\n",
    "meanmass = sw[['species','mass']].groupby(['species'], as_index=True).mean()\n",
    "meanmass"
   ]
  },
  {
   "cell_type": "code",
   "execution_count": null,
   "metadata": {
    "colab": {
     "base_uri": "https://localhost:8080/",
     "height": 421
    },
    "executionInfo": {
     "elapsed": 362,
     "status": "ok",
     "timestamp": 1662398754953,
     "user": {
      "displayName": "Junyeong Jo",
      "userId": "13302344713207402727"
     },
     "user_tz": 240
    },
    "id": "DbjN86i9pp8c",
    "outputId": "6ee09157-a789-46b7-9376-e3f778e1c604"
   },
   "outputs": [],
   "source": [
    "# 10 tops by mass \n",
    "meanmass['mass'].sort_values(ascending=False).head(10).plot.bar(color='red')\n",
    "plt.xticks(rotation=45)\n",
    "plt.show()"
   ]
  },
  {
   "cell_type": "code",
   "execution_count": null,
   "metadata": {
    "colab": {
     "base_uri": "https://localhost:8080/",
     "height": 575
    },
    "executionInfo": {
     "elapsed": 529,
     "status": "ok",
     "timestamp": 1662398757516,
     "user": {
      "displayName": "Junyeong Jo",
      "userId": "13302344713207402727"
     },
     "user_tz": 240
    },
    "id": "U8jLmMPyrTbx",
    "outputId": "fb5d167d-8e27-4609-caa0-82815f4652bc"
   },
   "outputs": [],
   "source": [
    "\n",
    "f, ax = plt.subplots(1, 1, figsize=(10, 8))\n",
    "\n",
    "colors = sns.color_palette('hls',len(meanmass['mass'])) \n",
    "\n",
    "g = meanmass['mass'].sort_values(ascending=False).plot.bar(color = colors)\n",
    "g.set_xticklabels(g.get_xticklabels(),rotation=90) \n",
    "\n",
    "plt.show()"
   ]
  },
  {
   "cell_type": "code",
   "execution_count": null,
   "metadata": {
    "colab": {
     "base_uri": "https://localhost:8080/"
    },
    "executionInfo": {
     "elapsed": 123,
     "status": "ok",
     "timestamp": 1662399170382,
     "user": {
      "displayName": "Junyeong Jo",
      "userId": "13302344713207402727"
     },
     "user_tz": 240
    },
    "id": "DWeXOBN7tPC9",
    "outputId": "02ad5042-7773-44ad-fdad-b8e91051300a"
   },
   "outputs": [],
   "source": [
    "out1 = sw['species'].isin(['Hutt'])\n",
    "out2 = sw['mass'].isin(['0'])\n",
    "sw[~out1][~out2].shape"
   ]
  },
  {
   "cell_type": "code",
   "execution_count": null,
   "metadata": {
    "colab": {
     "base_uri": "https://localhost:8080/",
     "height": 420
    },
    "executionInfo": {
     "elapsed": 867,
     "status": "ok",
     "timestamp": 1662401425114,
     "user": {
      "displayName": "Junyeong Jo",
      "userId": "13302344713207402727"
     },
     "user_tz": 240
    },
    "id": "8hEtpQGYtYYx",
    "outputId": "da8ec39e-991b-476c-f989-537f39f4eedb"
   },
   "outputs": [],
   "source": [
    "sns.lmplot(data=sw[~out1][~out2], x='height', y='mass', hue='gender') #hue=gender로 나타내서도 살펴보기\n",
    "sns.set_style(style='darkgrid')\n",
    "plt.show()"
   ]
  },
  {
   "cell_type": "markdown",
   "metadata": {
    "id": "ewM24ABC13j-"
   },
   "source": [
    "Review"
   ]
  },
  {
   "cell_type": "markdown",
   "metadata": {
    "id": "NVdUHa3o14nY"
   },
   "source": [
    "The Star Wars data has:\n",
    "Total number of data: 957\n",
    "Total number of missing values: 105, which is 10.97% of the total data.\n",
    "Number of characters appearing in Star Wars: 87\n",
    "Number of species appearing in Star Wars: 37\n",
    "\n",
    "The ratio of gender in Star Wars characters is: Male characters make up around 80%.\n",
    "\n",
    "The distribution of character height according to gender is: Male characters are generally taller than female characters and robots are generally shorter.\n",
    "\n",
    "The heaviest and lightest characters are: 'Ratts Tyerell' with a weight of 15.0 is the lightest\n",
    "'Jabba Desilijic Tiure' with a weight of 1358.0 is the heaviest\n",
    "\n",
    "Is there a correlation between the height and weight of Star Wars characters?\n",
    "Yes, there is. Even though they are from different planets, the height and weight of the characters generally show a proportional relationship."
   ]
  }
 ],
 "metadata": {
  "colab": {
   "authorship_tag": "ABX9TyMLlVxxIHPcWoqMxGumoKdi",
   "collapsed_sections": [],
   "provenance": []
  },
  "kernelspec": {
   "display_name": "Python 3 (ipykernel)",
   "language": "python",
   "name": "python3"
  },
  "language_info": {
   "codemirror_mode": {
    "name": "ipython",
    "version": 3
   },
   "file_extension": ".py",
   "mimetype": "text/x-python",
   "name": "python",
   "nbconvert_exporter": "python",
   "pygments_lexer": "ipython3",
   "version": "3.9.13"
  }
 },
 "nbformat": 4,
 "nbformat_minor": 1
}
